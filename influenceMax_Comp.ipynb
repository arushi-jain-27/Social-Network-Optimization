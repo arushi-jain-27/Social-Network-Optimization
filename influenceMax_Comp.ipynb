{
 "cells": [
  {
   "cell_type": "code",
   "execution_count": 1,
   "id": "5d78b3ff",
   "metadata": {},
   "outputs": [],
   "source": [
    "using DataFrames, CSV, Tables, Plots\n",
    "using JuMP, Gurobi"
   ]
  },
  {
   "cell_type": "code",
   "execution_count": 2,
   "id": "fa653361",
   "metadata": {},
   "outputs": [
    {
     "name": "stdout",
     "output_type": "stream",
     "text": [
      "Set parameter Username\r\n",
      "Academic license - for non-commercial use only - expires 2023-08-18\r\n"
     ]
    },
    {
     "data": {
      "text/plain": [
       "Gurobi.Env(Ptr{Nothing} @0x0000000081636f80, false, 0)"
      ]
     },
     "execution_count": 2,
     "metadata": {},
     "output_type": "execute_result"
    }
   ],
   "source": [
    "const GRB_ENV = Gurobi.Env()"
   ]
  },
  {
   "cell_type": "code",
   "execution_count": 3,
   "id": "ead6f9e7",
   "metadata": {},
   "outputs": [],
   "source": [
    "network = (CSV.File(\"./soc-sign-bitcoinotc.csv\") |> Tables.matrix)[:, 1:3];"
   ]
  },
  {
   "cell_type": "code",
   "execution_count": 4,
   "id": "7822b1cd",
   "metadata": {},
   "outputs": [
    {
     "data": {
      "text/plain": [
       "6005×6005 Matrix{Int8}:\n",
       " 0  0  0  0  0  0  0  0  0  0  0  0  0  …  0  0  0  0  0  0  0  0  0  0  0  0\n",
       " 0  0  0  0  0  0  0  0  0  0  0  0  0     0  0  0  0  0  0  0  0  0  0  0  0\n",
       " 0  0  0  0  0  0  0  0  0  0  0  0  0     0  0  0  0  0  0  0  0  0  0  0  0\n",
       " 0  0  0  0  0  0  0  0  0  0  0  0  0     0  0  0  0  0  0  0  0  0  0  0  0\n",
       " 0  0  0  0  0  0  0  0  0  0  0  0  0     0  0  0  0  0  0  0  0  0  0  0  0\n",
       " 0  0  0  0  0  0  0  0  0  0  0  0  0  …  0  0  0  0  0  0  0  0  0  0  0  0\n",
       " 0  0  0  0  0  0  0  0  0  0  0  0  0     0  0  0  0  0  0  0  0  0  0  0  0\n",
       " 0  0  0  0  0  0  0  0  0  0  0  0  0     0  0  0  0  0  0  0  0  0  0  0  0\n",
       " 0  0  0  0  0  0  0  0  0  0  0  0  0     0  0  0  0  0  0  0  0  0  0  0  0\n",
       " 0  0  0  0  0  0  0  0  0  0  0  0  0     0  0  0  0  0  0  0  0  0  0  0  0\n",
       " 0  0  0  0  0  0  0  0  0  0  0  0  0  …  0  0  0  0  0  0  0  0  0  0  0  0\n",
       " 0  0  0  0  0  0  0  0  0  0  0  0  0     0  0  0  0  0  0  0  0  0  0  0  0\n",
       " 0  0  0  0  0  0  0  0  0  0  0  0  0     0  0  0  0  0  0  0  0  0  0  0  0\n",
       " ⋮              ⋮              ⋮        ⋱        ⋮              ⋮           \n",
       " 0  0  0  0  0  0  0  0  0  0  0  0  0     0  0  0  0  0  0  0  0  0  0  0  0\n",
       " 0  0  0  0  0  0  0  0  0  0  0  0  0     0  0  0  0  0  0  0  0  0  0  0  0\n",
       " 0  0  0  0  0  0  0  0  0  0  0  0  0  …  0  0  0  0  0  0  0  0  0  0  0  0\n",
       " 0  0  0  0  0  0  0  0  0  0  0  0  0     0  0  0  0  0  0  0  0  0  0  0  0\n",
       " 0  0  0  0  0  0  0  0  0  0  0  0  0     0  0  0  0  0  0  0  0  0  0  0  0\n",
       " 0  0  0  0  0  0  0  0  0  0  0  0  0     0  0  0  0  0  0  0  0  0  0  0  0\n",
       " 0  0  0  0  0  0  0  0  0  0  0  0  0     0  0  0  0  0  0  0  0  0  0  0  0\n",
       " 0  0  0  0  0  0  0  0  0  0  0  0  0  …  0  0  0  0  0  0  0  0  0  0  0  0\n",
       " 0  0  0  0  0  0  0  0  0  0  0  0  0     0  0  0  0  0  0  0  0  0  0  0  0\n",
       " 0  0  0  0  0  0  0  0  0  0  0  0  0     0  0  0  0  0  0  0  0  0  0  0  0\n",
       " 0  0  0  0  0  0  0  0  0  0  0  0  0     0  0  0  0  0  0  0  0  0  0  0  0\n",
       " 0  0  0  0  0  0  0  0  0  0  0  0  0     0  0  0  0  0  0  0  0  0  0  0  0"
      ]
     },
     "execution_count": 4,
     "metadata": {},
     "output_type": "execute_result"
    }
   ],
   "source": [
    "# n = size(network)[1]\n",
    "n = floor(Int, maximum([maximum(network[:, 1]), maximum(network[:, 2])]))\n",
    "A = zeros(Int8, n, n)\n",
    "G = zeros(Int8, n, n)"
   ]
  },
  {
   "cell_type": "code",
   "execution_count": 53,
   "id": "9c7da8f2",
   "metadata": {},
   "outputs": [],
   "source": [
    "e = size(network)[1]\n",
    "for i=1:e\n",
    "    if network[i,3] < 0\n",
    "        continue\n",
    "    end\n",
    "    s = floor(Int, network[i,1])\n",
    "    d = floor(Int, network[i,2])\n",
    "    A[s, d] = network[i,3]\n",
    "    G[s, d] = min(max(A[s, d] + rand(-10:0), 0), 10)\n",
    "end"
   ]
  },
  {
   "cell_type": "code",
   "execution_count": 54,
   "id": "2f460541",
   "metadata": {},
   "outputs": [],
   "source": [
    "graph = (CSV.File(\"./graph.csv\") |> Tables.matrix);\n",
    "graph_reach = (CSV.File(\"./graph_reach.csv\") |> Tables.matrix);"
   ]
  },
  {
   "cell_type": "code",
   "execution_count": 55,
   "id": "c56fdb81",
   "metadata": {},
   "outputs": [],
   "source": [
    "synthetic = (CSV.File(\"./synthetic.csv\") |> Tables.matrix)\n",
    "threshold = synthetic[:,6];\n",
    "budget = synthetic[:,7];"
   ]
  },
  {
   "cell_type": "code",
   "execution_count": 56,
   "id": "d4c853f3",
   "metadata": {},
   "outputs": [],
   "source": [
    "threshold_1 = 0.3*threshold;"
   ]
  },
  {
   "cell_type": "code",
   "execution_count": 57,
   "id": "6f459979",
   "metadata": {},
   "outputs": [
    {
     "data": {
      "text/plain": [
       "10000"
      ]
     },
     "execution_count": 57,
     "metadata": {},
     "output_type": "execute_result"
    }
   ],
   "source": [
    "T = 6\n",
    "B = 10000"
   ]
  },
  {
   "cell_type": "code",
   "execution_count": 58,
   "id": "2820ee3e",
   "metadata": {},
   "outputs": [
    {
     "name": "stdout",
     "output_type": "stream",
     "text": [
      "Set parameter TimeLimit to value 1800\r\n",
      "Set parameter TimeLimit to value 1800\r\n",
      "Gurobi Optimizer version 9.5.2 build v9.5.2rc0 (win64)\r\n",
      "Thread count: 4 physical cores, 8 logical processors, using up to 8 threads\r\n",
      "Optimize a model with 210176 rows, 72060 columns and 698020 nonzeros\r\n",
      "Model fingerprint: 0xc444d9c3\r\n",
      "Variable types: 0 continuous, 72060 integer (72060 binary)\r\n",
      "Coefficient statistics:\r\n",
      "  Matrix range     [2e-02, 5e+05]\r\n",
      "  Objective range  [1e+00, 1e+00]\r\n",
      "  Bounds range     [0e+00, 0e+00]\r\n",
      "  RHS range        [3e-01, 1e+04]\r\n",
      "Found heuristic solution: objective -0.0000000\r\n",
      "Presolve removed 201233 rows and 68403 columns\r\n",
      "Presolve time: 4.23s\r\n",
      "Presolved: 8943 rows, 3657 columns, 38375 nonzeros\r\n",
      "Variable types: 0 continuous, 3657 integer (3657 binary)\r\n",
      "Found heuristic solution: objective 5.0000000\r\n",
      "\r\n",
      "Root relaxation: objective 4.434452e+01, 329 iterations, 0.02 seconds (0.00 work units)\r\n",
      "\r\n",
      "    Nodes    |    Current Node    |     Objective Bounds      |     Work\r\n",
      " Expl Unexpl |  Obj  Depth IntInf | Incumbent    BestBd   Gap | It/Node Time\r\n",
      "\r\n",
      "     0     0   44.34452    0  120    5.00000   44.34452   787%     -    4s\r\n",
      "H    0     0                      30.0000000   44.34452  47.8%     -    4s\r\n",
      "     0     0     cutoff    0        30.00000   30.00000  0.00%     -    4s\r\n",
      "\r\n",
      "Cutting planes:\r\n",
      "  Gomory: 4\r\n",
      "  Implied bound: 27\r\n",
      "  Clique: 78\r\n",
      "  MIR: 13\r\n",
      "  StrongCG: 3\r\n",
      "  Flow cover: 3\r\n",
      "  Zero half: 20\r\n",
      "  RLT: 10\r\n",
      "  PSD: 1\r\n",
      "\r\n",
      "Explored 1 nodes (360 simplex iterations) in 4.78 seconds (1.69 work units)\r\n",
      "Thread count was 8 (of 8 available processors)\r\n",
      "\r\n",
      "Solution count 3: 30 5 -0 \r\n",
      "\r\n",
      "Optimal solution found (tolerance 1.00e-04)\r\n",
      "Best objective 3.000000000000e+01, best bound 3.000000000000e+01, gap 0.0000%\r\n",
      "\r\n",
      "User-callback calls 2137, time in user-callback 0.00 sec\r\n"
     ]
    }
   ],
   "source": [
    "model = Model(() -> Gurobi.Optimizer(GRB_ENV));\n",
    "set_optimizer_attributes(model, \"TimeLimit\" => 1800, \"OutputFlag\" => 1)\n",
    "@variable(model, x[1:n,1:T] >= 0, Bin); \n",
    "@variable(model, y[1:n,1:T] >= 0, Bin);\n",
    "@constraint(model,  sum(x[:,1].*budget) <= B)\n",
    "for t=2:T\n",
    "    @constraint(model, [i=1:n], sum(x[:,t-1].*A[i,:]) >= threshold[i]*x[i,t])\n",
    "    @constraint(model, [i=1:n], sum(x[:,t-1].*A[i,:]) <= threshold[i]+y[i,t]*(1-threshold[i])+sum(A[i,:])*x[i,t])\n",
    "    @constraint(model, [i=1:n], x[i,t-1] <= x[i,t])\n",
    "    @constraint(model, [i=1:n], sum(y[:,t-1].*G[i,:]) >= threshold_1[i]*y[i,t])\n",
    "    @constraint(model, [i=1:n], sum(y[:,t-1].*G[i,:]) <= threshold_1[i]+x[i,t]*(1-threshold_1[i])+sum(G[i,:])*y[i,t])\n",
    "    @constraint(model, [i=1:n], y[i,t-1] <= y[i,t])\n",
    "    @constraint(model, [i=1:n], y[i,t] + x[i,t] <= 1)\n",
    "end\n",
    "@objective(model, Max, sum(x[:,T]))\n",
    "optimize!(model)"
   ]
  },
  {
   "cell_type": "code",
   "execution_count": 59,
   "id": "7227ba6a",
   "metadata": {},
   "outputs": [
    {
     "data": {
      "text/plain": [
       "30.0"
      ]
     },
     "execution_count": 59,
     "metadata": {},
     "output_type": "execute_result"
    }
   ],
   "source": [
    "sum(value.(x[:,T]))"
   ]
  },
  {
   "cell_type": "code",
   "execution_count": 60,
   "id": "7f54985f",
   "metadata": {},
   "outputs": [
    {
     "data": {
      "text/plain": [
       "0.0"
      ]
     },
     "execution_count": 60,
     "metadata": {},
     "output_type": "execute_result"
    }
   ],
   "source": [
    "sum(value.(y[:,T]))"
   ]
  },
  {
   "cell_type": "code",
   "execution_count": 36,
   "id": "39976ed1",
   "metadata": {},
   "outputs": [
    {
     "data": {
      "text/plain": [
       "\"./opt_comp.csv\""
      ]
     },
     "execution_count": 36,
     "metadata": {},
     "output_type": "execute_result"
    }
   ],
   "source": [
    "q1 = value.(x)\n",
    "q2 = value.(y)\n",
    "time = zeros(Int8, n)\n",
    "comp = zeros(Int8, n)\n",
    "for i in 1:n\n",
    "    for t in 1:T\n",
    "        if q1[i, t] == 1\n",
    "            if time[i] == 0\n",
    "                time[i] = t\n",
    "            end\n",
    "        end\n",
    "        if q2[i, t] == 1\n",
    "            if time[i] == 0\n",
    "                time[i] = t\n",
    "                comp[i] = 1\n",
    "            end\n",
    "        end\n",
    "    end\n",
    "end\n",
    "opt_example = DataFrame(Time=time, Comp=comp)\n",
    "CSV.write(\"./opt_comp.csv\", opt_example)"
   ]
  },
  {
   "cell_type": "code",
   "execution_count": null,
   "id": "502d91f8",
   "metadata": {},
   "outputs": [],
   "source": []
  }
 ],
 "metadata": {
  "kernelspec": {
   "display_name": "Julia 1.8.2",
   "language": "julia",
   "name": "julia-1.8"
  },
  "language_info": {
   "file_extension": ".jl",
   "mimetype": "application/julia",
   "name": "julia",
   "version": "1.8.2"
  }
 },
 "nbformat": 4,
 "nbformat_minor": 5
}
